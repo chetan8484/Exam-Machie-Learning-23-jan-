{
 "cells": [
  {
   "cell_type": "code",
   "execution_count": null,
   "id": "bf887be7",
   "metadata": {},
   "outputs": [],
   "source": [
    "Que no 2"
   ]
  },
  {
   "cell_type": "code",
   "execution_count": 1,
   "id": "40689684",
   "metadata": {},
   "outputs": [],
   "source": [
    "import numpy as np"
   ]
  },
  {
   "cell_type": "code",
   "execution_count": 2,
   "id": "a59feea0",
   "metadata": {},
   "outputs": [],
   "source": [
    "import pandas as pd"
   ]
  },
  {
   "cell_type": "code",
   "execution_count": 3,
   "id": "83135cde",
   "metadata": {},
   "outputs": [],
   "source": [
    "import matplotlib.pyplot as plt"
   ]
  },
  {
   "cell_type": "code",
   "execution_count": 4,
   "id": "12fd1203",
   "metadata": {},
   "outputs": [],
   "source": [
    "import seaborn as sns\n"
   ]
  },
  {
   "cell_type": "code",
   "execution_count": 37,
   "id": "1c754661",
   "metadata": {},
   "outputs": [],
   "source": [
    "from sklearn import svm"
   ]
  },
  {
   "cell_type": "code",
   "execution_count": 35,
   "id": "632c3022",
   "metadata": {},
   "outputs": [],
   "source": [
    "import sys"
   ]
  },
  {
   "cell_type": "code",
   "execution_count": 5,
   "id": "396f3979",
   "metadata": {},
   "outputs": [],
   "source": [
    "%matplotlib inline"
   ]
  },
  {
   "cell_type": "code",
   "execution_count": 29,
   "id": "33b98276",
   "metadata": {},
   "outputs": [],
   "source": [
    "df=pd.read_excel('Desktop/data_final.xlsx')"
   ]
  },
  {
   "cell_type": "code",
   "execution_count": 80,
   "id": "3b17bb88",
   "metadata": {},
   "outputs": [
    {
     "data": {
      "text/html": [
       "<div>\n",
       "<style scoped>\n",
       "    .dataframe tbody tr th:only-of-type {\n",
       "        vertical-align: middle;\n",
       "    }\n",
       "\n",
       "    .dataframe tbody tr th {\n",
       "        vertical-align: top;\n",
       "    }\n",
       "\n",
       "    .dataframe thead th {\n",
       "        text-align: right;\n",
       "    }\n",
       "</style>\n",
       "<table border=\"1\" class=\"dataframe\">\n",
       "  <thead>\n",
       "    <tr style=\"text-align: right;\">\n",
       "      <th></th>\n",
       "      <th>observation</th>\n",
       "      <th>feature</th>\n",
       "      <th>price</th>\n",
       "    </tr>\n",
       "  </thead>\n",
       "  <tbody>\n",
       "    <tr>\n",
       "      <th>0</th>\n",
       "      <td>0.44</td>\n",
       "      <td>0.68</td>\n",
       "      <td>511.14</td>\n",
       "    </tr>\n",
       "    <tr>\n",
       "      <th>1</th>\n",
       "      <td>0.99</td>\n",
       "      <td>0.23</td>\n",
       "      <td>717.10</td>\n",
       "    </tr>\n",
       "    <tr>\n",
       "      <th>2</th>\n",
       "      <td>0.84</td>\n",
       "      <td>0.29</td>\n",
       "      <td>607.91</td>\n",
       "    </tr>\n",
       "    <tr>\n",
       "      <th>3</th>\n",
       "      <td>0.28</td>\n",
       "      <td>0.45</td>\n",
       "      <td>270.40</td>\n",
       "    </tr>\n",
       "    <tr>\n",
       "      <th>4</th>\n",
       "      <td>0.07</td>\n",
       "      <td>0.83</td>\n",
       "      <td>289.88</td>\n",
       "    </tr>\n",
       "  </tbody>\n",
       "</table>\n",
       "</div>"
      ],
      "text/plain": [
       "   observation  feature   price\n",
       "0         0.44     0.68  511.14\n",
       "1         0.99     0.23  717.10\n",
       "2         0.84     0.29  607.91\n",
       "3         0.28     0.45  270.40\n",
       "4         0.07     0.83  289.88"
      ]
     },
     "execution_count": 80,
     "metadata": {},
     "output_type": "execute_result"
    }
   ],
   "source": [
    "df.head()"
   ]
  },
  {
   "cell_type": "code",
   "execution_count": 81,
   "id": "1899c213",
   "metadata": {},
   "outputs": [
    {
     "name": "stdout",
     "output_type": "stream",
     "text": [
      "<class 'pandas.core.frame.DataFrame'>\n",
      "RangeIndex: 100 entries, 0 to 99\n",
      "Data columns (total 3 columns):\n",
      " #   Column       Non-Null Count  Dtype  \n",
      "---  ------       --------------  -----  \n",
      " 0   observation  100 non-null    float64\n",
      " 1   feature      100 non-null    float64\n",
      " 2   price        100 non-null    float64\n",
      "dtypes: float64(3)\n",
      "memory usage: 2.5 KB\n"
     ]
    }
   ],
   "source": [
    "df.info()\n"
   ]
  },
  {
   "cell_type": "code",
   "execution_count": 82,
   "id": "d6c91018",
   "metadata": {},
   "outputs": [
    {
     "data": {
      "text/html": [
       "<div>\n",
       "<style scoped>\n",
       "    .dataframe tbody tr th:only-of-type {\n",
       "        vertical-align: middle;\n",
       "    }\n",
       "\n",
       "    .dataframe tbody tr th {\n",
       "        vertical-align: top;\n",
       "    }\n",
       "\n",
       "    .dataframe thead th {\n",
       "        text-align: right;\n",
       "    }\n",
       "</style>\n",
       "<table border=\"1\" class=\"dataframe\">\n",
       "  <thead>\n",
       "    <tr style=\"text-align: right;\">\n",
       "      <th></th>\n",
       "      <th>observation</th>\n",
       "      <th>feature</th>\n",
       "      <th>price</th>\n",
       "    </tr>\n",
       "  </thead>\n",
       "  <tbody>\n",
       "    <tr>\n",
       "      <th>count</th>\n",
       "      <td>100.000000</td>\n",
       "      <td>100.000000</td>\n",
       "      <td>100.000000</td>\n",
       "    </tr>\n",
       "    <tr>\n",
       "      <th>mean</th>\n",
       "      <td>0.550300</td>\n",
       "      <td>0.501700</td>\n",
       "      <td>554.214600</td>\n",
       "    </tr>\n",
       "    <tr>\n",
       "      <th>std</th>\n",
       "      <td>0.293841</td>\n",
       "      <td>0.307124</td>\n",
       "      <td>347.312796</td>\n",
       "    </tr>\n",
       "    <tr>\n",
       "      <th>min</th>\n",
       "      <td>0.010000</td>\n",
       "      <td>0.000000</td>\n",
       "      <td>42.080000</td>\n",
       "    </tr>\n",
       "    <tr>\n",
       "      <th>25%</th>\n",
       "      <td>0.300000</td>\n",
       "      <td>0.230000</td>\n",
       "      <td>278.172500</td>\n",
       "    </tr>\n",
       "    <tr>\n",
       "      <th>50%</th>\n",
       "      <td>0.570000</td>\n",
       "      <td>0.485000</td>\n",
       "      <td>514.285000</td>\n",
       "    </tr>\n",
       "    <tr>\n",
       "      <th>75%</th>\n",
       "      <td>0.822500</td>\n",
       "      <td>0.760000</td>\n",
       "      <td>751.752500</td>\n",
       "    </tr>\n",
       "    <tr>\n",
       "      <th>max</th>\n",
       "      <td>1.000000</td>\n",
       "      <td>0.990000</td>\n",
       "      <td>1563.820000</td>\n",
       "    </tr>\n",
       "  </tbody>\n",
       "</table>\n",
       "</div>"
      ],
      "text/plain": [
       "       observation     feature        price\n",
       "count   100.000000  100.000000   100.000000\n",
       "mean      0.550300    0.501700   554.214600\n",
       "std       0.293841    0.307124   347.312796\n",
       "min       0.010000    0.000000    42.080000\n",
       "25%       0.300000    0.230000   278.172500\n",
       "50%       0.570000    0.485000   514.285000\n",
       "75%       0.822500    0.760000   751.752500\n",
       "max       1.000000    0.990000  1563.820000"
      ]
     },
     "execution_count": 82,
     "metadata": {},
     "output_type": "execute_result"
    }
   ],
   "source": [
    "df.describe()\n"
   ]
  },
  {
   "cell_type": "code",
   "execution_count": 83,
   "id": "2efd3f99",
   "metadata": {},
   "outputs": [
    {
     "data": {
      "text/plain": [
       "observation    0\n",
       "feature        0\n",
       "price          0\n",
       "dtype: int64"
      ]
     },
     "execution_count": 83,
     "metadata": {},
     "output_type": "execute_result"
    }
   ],
   "source": [
    "df.isnull().sum()\n"
   ]
  },
  {
   "cell_type": "code",
   "execution_count": 88,
   "id": "00015f60",
   "metadata": {},
   "outputs": [
    {
     "data": {
      "text/plain": [
       "<seaborn.axisgrid.PairGrid at 0x25b05d6b940>"
      ]
     },
     "execution_count": 88,
     "metadata": {},
     "output_type": "execute_result"
    },
    {
     "data": {
      "image/png": "[encoded data removed]",
      "text/plain": [
       "<Figure size 750x750 with 12 Axes>"
      ]
     },
     "metadata": {},
     "output_type": "display_data"
    }
   ],
   "source": [
    "sns.pairplot(df)\n",
    "\n"
   ]
  },
  {
   "cell_type": "code",
   "execution_count": 90,
   "id": "9094d876",
   "metadata": {},
   "outputs": [],
   "source": [
    "X = df.iloc[:,:-1].values\n"
   ]
  },
  {
   "cell_type": "code",
   "execution_count": 92,
   "id": "555936a9",
   "metadata": {},
   "outputs": [],
   "source": [
    "y = df.iloc[:,-1].values"
   ]
  },
  {
   "cell_type": "code",
   "execution_count": 93,
   "id": "317b8a79",
   "metadata": {},
   "outputs": [
    {
     "data": {
      "text/plain": [
       "((100, 2), (100,))"
      ]
     },
     "execution_count": 93,
     "metadata": {},
     "output_type": "execute_result"
    }
   ],
   "source": [
    "X.shape , y.shape\n",
    "((100, 2), (100,))"
   ]
  },
  {
   "cell_type": "code",
   "execution_count": 101,
   "id": "bbecc7bd",
   "metadata": {},
   "outputs": [
    {
     "data": {
      "text/plain": [
       "((67, 2), (33, 2), (67,), (33,))"
      ]
     },
     "execution_count": 101,
     "metadata": {},
     "output_type": "execute_result"
    }
   ],
   "source": [
    "from sklearn.model_selection import train_test_split\n",
    "X_train , X_test , y_train , y_test = train_test_split(X,y,test_size=0.33,random_state=0)\n",
    "X_train.shape , X_test.shape , y_train.shape , y_test.shape\n",
    "\n",
    "\n"
   ]
  },
  {
   "cell_type": "code",
   "execution_count": 102,
   "id": "b7159498",
   "metadata": {},
   "outputs": [
    {
     "data": {
      "text/plain": [
       "LinearRegression()"
      ]
     },
     "execution_count": 102,
     "metadata": {},
     "output_type": "execute_result"
    }
   ],
   "source": [
    "from sklearn.linear_model import LinearRegression\n",
    "reg = LinearRegression()\n",
    "reg.fit(X_train,y_train)\n"
   ]
  },
  {
   "cell_type": "code",
   "execution_count": 103,
   "id": "9f2cfc96",
   "metadata": {},
   "outputs": [
    {
     "data": {
      "text/plain": [
       "array([ 422.81092199,   47.3117882 ,  673.47663105,   57.68448711,\n",
       "        653.51497592,  228.41131427,  586.76861722,  572.31598687,\n",
       "        677.55656248,  701.96695506,  754.89073698,  978.30316384,\n",
       "       1061.45374137, 1160.50910794,  523.60276016,  395.42701601,\n",
       "        992.49454662,  106.29015537,  896.38962812,  703.96467422,\n",
       "        422.44211598,  170.43180667,  275.77994073,  845.07169401,\n",
       "       1085.62595172, -247.14204568,  994.10039444,  657.07241222,\n",
       "        733.93022227,  937.96491688,  897.62666993,  814.10728639,\n",
       "        728.26750836])"
      ]
     },
     "execution_count": 103,
     "metadata": {},
     "output_type": "execute_result"
    }
   ],
   "source": [
    "y_pred = reg.predict(X_test)\n",
    "y_pred\n"
   ]
  },
  {
   "cell_type": "code",
   "execution_count": 106,
   "id": "98599c0d",
   "metadata": {},
   "outputs": [
    {
     "data": {
      "text/plain": [
       "[<matplotlib.lines.Line2D at 0x25b06fcf220>]"
      ]
     },
     "execution_count": 106,
     "metadata": {},
     "output_type": "execute_result"
    },
    {
     "data": {
      "image/png": "[encoded data removed]",
      "text/plain": [
       "<Figure size 640x480 with 1 Axes>"
      ]
     },
     "metadata": {},
     "output_type": "display_data"
    }
   ],
   "source": [
    "plt.scatter(y_pred,y_test,color='red')\n",
    "plt.plot(y_pred,y_test,color='Yellow')"
   ]
  },
  {
   "cell_type": "code",
   "execution_count": 107,
   "id": "ff4314db",
   "metadata": {},
   "outputs": [
    {
     "data": {
      "text/plain": [
       "array([483.02633098])"
      ]
     },
     "execution_count": 107,
     "metadata": {},
     "output_type": "execute_result"
    }
   ],
   "source": [
    "reg.predict([[0.34,0.68]])\n"
   ]
  },
  {
   "cell_type": "code",
   "execution_count": 108,
   "id": "9bb27bf7",
   "metadata": {},
   "outputs": [
    {
     "data": {
      "text/plain": [
       "array([147.60419658])"
      ]
     },
     "execution_count": 108,
     "metadata": {},
     "output_type": "execute_result"
    }
   ],
   "source": [
    "reg.predict([[0.33,0.19]])"
   ]
  },
  {
   "cell_type": "code",
   "execution_count": 109,
   "id": "c78b8438",
   "metadata": {},
   "outputs": [],
   "source": [
    "from sklearn import metrics as sm"
   ]
  },
  {
   "cell_type": "code",
   "execution_count": null,
   "id": "9874585c",
   "metadata": {},
   "outputs": [],
   "source": [
    "#PErformance"
   ]
  },
  {
   "cell_type": "code",
   "execution_count": 110,
   "id": "f1f5e33a",
   "metadata": {},
   "outputs": [
    {
     "name": "stdout",
     "output_type": "stream",
     "text": [
      "Regressor model performance:\n",
      "Mean absolute error(MAE) = 64.79\n",
      "Mean squared error(MSE) = 6893.9\n",
      "Median absolute error = 63.21\n",
      "Explain variance score = 0.94\n"
     ]
    }
   ],
   "source": [
    "print(\"Regressor model performance:\")\n",
    "print(\"Mean absolute error(MAE) =\", \n",
    "round(sm.mean_absolute_error(y_test, y_pred), 2))\n",
    "print(\"Mean squared error(MSE) =\", round(sm.mean_squared_error(y_test,\n",
    "y_pred), 2))\n",
    "print(\"Median absolute error =\", \n",
    "round(sm.median_absolute_error(y_test, y_pred), 2))\n",
    "print(\"Explain variance score =\", \n",
    "round(sm.explained_variance_score(y_test, y_pred), 2))"
   ]
  },
  {
   "cell_type": "code",
   "execution_count": null,
   "id": "2e1cab41",
   "metadata": {},
   "outputs": [],
   "source": [
    "#Polynomial Regression Model Building"
   ]
  },
  {
   "cell_type": "code",
   "execution_count": 111,
   "id": "fad856b6",
   "metadata": {},
   "outputs": [
    {
     "data": {
      "text/plain": [
       "LinearRegression()"
      ]
     },
     "execution_count": 111,
     "metadata": {},
     "output_type": "execute_result"
    }
   ],
   "source": [
    "from sklearn.preprocessing import PolynomialFeatures\n",
    "poly_reg = PolynomialFeatures(degree = 3)\n",
    "X_poly = poly_reg.fit_transform(X_train)\n",
    "lg1 = LinearRegression()\n",
    "lg1.fit(X_poly,y_train)"
   ]
  },
  {
   "cell_type": "code",
   "execution_count": 112,
   "id": "69dd9f7c",
   "metadata": {},
   "outputs": [
    {
     "data": {
      "text/plain": [
       "array([ 359.75976199,  131.68218142,  610.25321634,  149.21839813,\n",
       "        565.70476871,  237.32776414,  520.95984491,  484.01063981,\n",
       "        620.99264658,  631.87647431,  704.04970819, 1027.89797017,\n",
       "       1151.40826113, 1331.94059362,  461.42089638,  341.20348876,\n",
       "       1042.75661496,  170.30867277,  904.41563338,  635.41490761,\n",
       "        362.40482444,  204.12101516,  266.88411561,  831.11222225,\n",
       "       1205.59511066,   41.00053444, 1039.87078205,  595.13955572,\n",
       "        687.50938689,  965.50286138,  905.63644023,  787.83921136,\n",
       "        659.7042353 ])"
      ]
     },
     "execution_count": 112,
     "metadata": {},
     "output_type": "execute_result"
    }
   ],
   "source": [
    "y_pred1 = lg1.predict(poly_reg.fit_transform(X_test))\n",
    "y_pred1"
   ]
  },
  {
   "cell_type": "code",
   "execution_count": 113,
   "id": "93b4bf22",
   "metadata": {},
   "outputs": [
    {
     "data": {
      "text/plain": [
       "[<matplotlib.lines.Line2D at 0x25b07042130>]"
      ]
     },
     "execution_count": 113,
     "metadata": {},
     "output_type": "execute_result"
    },
    {
     "data": {
      "image/png": "[encoded data removed]",
      "text/plain": [
       "<Figure size 640x480 with 1 Axes>"
      ]
     },
     "metadata": {},
     "output_type": "display_data"
    }
   ],
   "source": [
    "plt.scatter(y_pred1,y_test,color='red')\n",
    "plt.plot(y_pred1,y_test,color='blue')\n"
   ]
  },
  {
   "cell_type": "markdown",
   "id": "718acd97",
   "metadata": {},
   "source": [
    "#1) Almost all the points are on the regression line,hence Polynomial regression model \n",
    "is best to decide \"price per square foot\" .\n",
    "2)I have used Multiple Linear regression model and Polynomial Regression model. As I\n",
    "have plotted scatter-plot for these two models , it is seen that Polynomial regression\n",
    "model gives best regression line.\n",
    "3) I have used Multiple Linear regression model and Polynomial Regression model. As I\n",
    "have plotted scatter-plot for these two models , it is seen that Polynomial regression\n",
    "model gives best regression line."
   ]
  },
  {
   "cell_type": "code",
   "execution_count": null,
   "id": "796434c1",
   "metadata": {},
   "outputs": [],
   "source": []
  },
  {
   "cell_type": "code",
   "execution_count": null,
   "id": "f6b4e0c6",
   "metadata": {},
   "outputs": [],
   "source": []
  },
  {
   "cell_type": "code",
   "execution_count": 55,
   "id": "23faf20e",
   "metadata": {},
   "outputs": [
    {
     "data": {
      "text/html": [
       "<div>\n",
       "<style scoped>\n",
       "    .dataframe tbody tr th:only-of-type {\n",
       "        vertical-align: middle;\n",
       "    }\n",
       "\n",
       "    .dataframe tbody tr th {\n",
       "        vertical-align: top;\n",
       "    }\n",
       "\n",
       "    .dataframe thead th {\n",
       "        text-align: right;\n",
       "    }\n",
       "</style>\n",
       "<table border=\"1\" class=\"dataframe\">\n",
       "  <thead>\n",
       "    <tr style=\"text-align: right;\">\n",
       "      <th></th>\n",
       "      <th>observation</th>\n",
       "      <th>feature</th>\n",
       "    </tr>\n",
       "  </thead>\n",
       "  <tbody>\n",
       "    <tr>\n",
       "      <th>0</th>\n",
       "      <td>0.44</td>\n",
       "      <td>0.68</td>\n",
       "    </tr>\n",
       "    <tr>\n",
       "      <th>1</th>\n",
       "      <td>0.99</td>\n",
       "      <td>0.23</td>\n",
       "    </tr>\n",
       "    <tr>\n",
       "      <th>2</th>\n",
       "      <td>0.84</td>\n",
       "      <td>0.29</td>\n",
       "    </tr>\n",
       "    <tr>\n",
       "      <th>3</th>\n",
       "      <td>0.28</td>\n",
       "      <td>0.45</td>\n",
       "    </tr>\n",
       "    <tr>\n",
       "      <th>4</th>\n",
       "      <td>0.07</td>\n",
       "      <td>0.83</td>\n",
       "    </tr>\n",
       "    <tr>\n",
       "      <th>...</th>\n",
       "      <td>...</td>\n",
       "      <td>...</td>\n",
       "    </tr>\n",
       "    <tr>\n",
       "      <th>95</th>\n",
       "      <td>0.99</td>\n",
       "      <td>0.13</td>\n",
       "    </tr>\n",
       "    <tr>\n",
       "      <th>96</th>\n",
       "      <td>0.28</td>\n",
       "      <td>0.46</td>\n",
       "    </tr>\n",
       "    <tr>\n",
       "      <th>97</th>\n",
       "      <td>0.87</td>\n",
       "      <td>0.36</td>\n",
       "    </tr>\n",
       "    <tr>\n",
       "      <th>98</th>\n",
       "      <td>0.23</td>\n",
       "      <td>0.87</td>\n",
       "    </tr>\n",
       "    <tr>\n",
       "      <th>99</th>\n",
       "      <td>0.77</td>\n",
       "      <td>0.36</td>\n",
       "    </tr>\n",
       "  </tbody>\n",
       "</table>\n",
       "<p>100 rows × 2 columns</p>\n",
       "</div>"
      ],
      "text/plain": [
       "    observation  feature\n",
       "0          0.44     0.68\n",
       "1          0.99     0.23\n",
       "2          0.84     0.29\n",
       "3          0.28     0.45\n",
       "4          0.07     0.83\n",
       "..          ...      ...\n",
       "95         0.99     0.13\n",
       "96         0.28     0.46\n",
       "97         0.87     0.36\n",
       "98         0.23     0.87\n",
       "99         0.77     0.36\n",
       "\n",
       "[100 rows x 2 columns]"
      ]
     },
     "execution_count": 55,
     "metadata": {},
     "output_type": "execute_result"
    }
   ],
   "source": [
    "x = df.iloc[:,:-1]\n",
    "x"
   ]
  },
  {
   "cell_type": "code",
   "execution_count": 27,
   "id": "b7f323ec",
   "metadata": {},
   "outputs": [
    {
     "data": {
      "text/plain": [
       "(100, 2)"
      ]
     },
     "execution_count": 27,
     "metadata": {},
     "output_type": "execute_result"
    }
   ],
   "source": [
    "df.shape\n"
   ]
  },
  {
   "cell_type": "code",
   "execution_count": 28,
   "id": "825c1feb",
   "metadata": {},
   "outputs": [
    {
     "data": {
      "text/plain": [
       "<bound method DataFrame.info of     Observation       Price\n",
       "0          0.44  0.68511.14\n",
       "1          0.99   0.23717.1\n",
       "2          0.84  0.29607.91\n",
       "3          0.28   0.45270.4\n",
       "4          0.07  0.83289.88\n",
       "..          ...         ...\n",
       "95         0.99  0.13636.22\n",
       "96         0.28  0.46272.12\n",
       "97         0.87  0.36696.65\n",
       "98         0.23  0.87434.53\n",
       "99         0.77  0.36593.86\n",
       "\n",
       "[100 rows x 2 columns]>"
      ]
     },
     "execution_count": 28,
     "metadata": {},
     "output_type": "execute_result"
    }
   ],
   "source": [
    "df.info"
   ]
  },
  {
   "cell_type": "code",
   "execution_count": 56,
   "id": "a3b903b3",
   "metadata": {},
   "outputs": [
    {
     "data": {
      "text/plain": [
       "array([ 511.14,  717.1 ,  607.91,  270.4 ,  289.88,  830.85, 1038.09,\n",
       "        455.19,  640.17,  511.06,  177.03, 1242.52,  891.37, 1339.72,\n",
       "        169.88,  276.05,  517.43,  522.25,  932.21,  851.25,  640.11,\n",
       "        308.68, 1046.05,  332.4 ,  171.85,  109.55,  361.97,  872.21,\n",
       "        303.7 ,  256.38,  341.2 , 1194.63,  408.6 ,  895.54,  518.25,\n",
       "        638.75,  301.9 ,  163.38,  240.77, 1449.05,  609.  ,  174.59,\n",
       "        593.45,  355.96,  671.46, 1193.7 ,  278.88,  411.4 ,   42.08,\n",
       "        166.19,   58.62,  642.45,  368.14,  702.78,  615.74,  143.79,\n",
       "        109.  ,  328.28,  205.16, 1360.49,  905.83,  487.33,  202.76,\n",
       "        202.01,  148.87,  745.3 ,  503.04, 1563.82,  165.21,  438.4 ,\n",
       "         98.47,  819.63,  174.44,  483.13,  534.24,  572.31,  957.61,\n",
       "        518.29, 1143.49, 1211.31,  784.74,  283.7 ,  684.38,  719.46,\n",
       "        292.23,  775.68,  130.77,  801.6 ,  323.55,  726.9 ,  661.12,\n",
       "        771.11, 1016.14,  237.69,  325.89,  636.22,  272.12,  696.65,\n",
       "        434.53,  593.86])"
      ]
     },
     "execution_count": 56,
     "metadata": {},
     "output_type": "execute_result"
    }
   ],
   "source": [
    "y = df['price'].values\n",
    "y"
   ]
  },
  {
   "cell_type": "code",
   "execution_count": 59,
   "id": "4cb26241",
   "metadata": {},
   "outputs": [],
   "source": [
    "from sklearn.model_selection import train_test_split\n",
    "x_train, x_test,y_train,y_test = train_test_split(x,y,test_size=0.2, random_state=0)"
   ]
  },
  {
   "cell_type": "code",
   "execution_count": 64,
   "id": "b503a421",
   "metadata": {},
   "outputs": [
    {
     "data": {
      "text/plain": [
       "LinearRegression()"
      ]
     },
     "execution_count": 64,
     "metadata": {},
     "output_type": "execute_result"
    }
   ],
   "source": [
    "from sklearn.linear_model import LinearRegression\n",
    "model = LinearRegression()\n",
    "model.fit(x,y)"
   ]
  },
  {
   "cell_type": "raw",
   "id": "8688d1f6",
   "metadata": {},
   "source": [
    "LinearRegression()"
   ]
  },
  {
   "cell_type": "code",
   "execution_count": 66,
   "id": "8d92d329",
   "metadata": {},
   "outputs": [],
   "source": [
    "from sklearn.metrics import r2_score"
   ]
  },
  {
   "cell_type": "code",
   "execution_count": 67,
   "id": "57202292",
   "metadata": {},
   "outputs": [
    {
     "name": "stdout",
     "output_type": "stream",
     "text": [
      "0.9520803113915313\n"
     ]
    }
   ],
   "source": [
    "y_pred = model.predict(x_test)\n",
    "print(r2_score(y_test, y_pred))"
   ]
  },
  {
   "cell_type": "code",
   "execution_count": 73,
   "id": "91172eb5",
   "metadata": {},
   "outputs": [
    {
     "data": {
      "text/plain": [
       "LinearRegression()"
      ]
     },
     "execution_count": 73,
     "metadata": {},
     "output_type": "execute_result"
    }
   ],
   "source": [
    "from sklearn.linear_model import LinearRegression\n",
    "model=LinearRegression()\n",
    "model.fit(x,y)\n"
   ]
  },
  {
   "cell_type": "code",
   "execution_count": 76,
   "id": "29ac11aa",
   "metadata": {},
   "outputs": [
    {
     "data": {
      "text/plain": [
       "LinearRegression()"
      ]
     },
     "execution_count": 76,
     "metadata": {},
     "output_type": "execute_result"
    }
   ],
   "source": [
    "from sklearn.preprocessing import PolynomialFeatures\n",
    "reg=PolynomialFeatures(degree=3)\n",
    "poly=reg.fit_transform(x)\n",
    "model1=LinearRegression()\n",
    "model1.fit(poly,y)"
   ]
  },
  {
   "cell_type": "code",
   "execution_count": null,
   "id": "1ccaa4f7",
   "metadata": {},
   "outputs": [],
   "source": []
  },
  {
   "cell_type": "code",
   "execution_count": null,
   "id": "b9ea757a",
   "metadata": {},
   "outputs": [],
   "source": []
  }
 ],
 "metadata": {
  "kernelspec": {
   "display_name": "Python 3 (ipykernel)",
   "language": "python",
   "name": "python3"
  },
  "language_info": {
   "codemirror_mode": {
    "name": "ipython",
    "version": 3
   },
   "file_extension": ".py",
   "mimetype": "text/x-python",
   "name": "python",
   "nbconvert_exporter": "python",
   "pygments_lexer": "ipython3",
   "version": "3.9.13"
  }
 },
 "nbformat": 4,
 "nbformat_minor": 5
}
